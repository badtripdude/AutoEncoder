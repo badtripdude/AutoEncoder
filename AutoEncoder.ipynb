{
  "cells": [
    {
      "cell_type": "markdown",
      "metadata": {
        "id": "view-in-github",
        "colab_type": "text"
      },
      "source": [
        "<a href=\"https://colab.research.google.com/github/badtripdude/Autoencoder/blob/master/AutoEncoder.ipynb\" target=\"_parent\"><img src=\"https://colab.research.google.com/assets/colab-badge.svg\" alt=\"Open In Colab\"/></a>"
      ]
    },
    {
      "cell_type": "code",
      "execution_count": null,
      "metadata": {
        "id": "fa61uwQxkpa_",
        "colab": {
          "base_uri": "https://localhost:8080/"
        },
        "outputId": "c2c5539e-dad1-4940-c68e-0b876eeee0fa"
      },
      "outputs": [
        {
          "output_type": "stream",
          "name": "stdout",
          "text": [
            "Looking in indexes: https://pypi.org/simple, https://us-python.pkg.dev/colab-wheels/public/simple/\n",
            "Collecting tensorflow==2.10.0\n",
            "  Downloading tensorflow-2.10.0-cp37-cp37m-manylinux_2_17_x86_64.manylinux2014_x86_64.whl (578.0 MB)\n",
            "\u001b[K     |████████████████████████████████| 578.0 MB 16 kB/s \n",
            "\u001b[?25hRequirement already satisfied: h5py>=2.9.0 in /usr/local/lib/python3.7/dist-packages (from tensorflow==2.10.0) (3.1.0)\n",
            "Requirement already satisfied: absl-py>=1.0.0 in /usr/local/lib/python3.7/dist-packages (from tensorflow==2.10.0) (1.3.0)\n",
            "Collecting keras<2.11,>=2.10.0\n",
            "  Downloading keras-2.10.0-py2.py3-none-any.whl (1.7 MB)\n",
            "\u001b[K     |████████████████████████████████| 1.7 MB 48.5 MB/s \n",
            "\u001b[?25hRequirement already satisfied: packaging in /usr/local/lib/python3.7/dist-packages (from tensorflow==2.10.0) (21.3)\n",
            "Requirement already satisfied: wrapt>=1.11.0 in /usr/local/lib/python3.7/dist-packages (from tensorflow==2.10.0) (1.14.1)\n",
            "Requirement already satisfied: keras-preprocessing>=1.1.1 in /usr/local/lib/python3.7/dist-packages (from tensorflow==2.10.0) (1.1.2)\n",
            "Requirement already satisfied: six>=1.12.0 in /usr/local/lib/python3.7/dist-packages (from tensorflow==2.10.0) (1.15.0)\n",
            "Collecting tensorboard<2.11,>=2.10\n",
            "  Downloading tensorboard-2.10.1-py3-none-any.whl (5.9 MB)\n",
            "\u001b[K     |████████████████████████████████| 5.9 MB 49.8 MB/s \n",
            "\u001b[?25hRequirement already satisfied: tensorflow-io-gcs-filesystem>=0.23.1 in /usr/local/lib/python3.7/dist-packages (from tensorflow==2.10.0) (0.27.0)\n",
            "Requirement already satisfied: libclang>=13.0.0 in /usr/local/lib/python3.7/dist-packages (from tensorflow==2.10.0) (14.0.6)\n",
            "Requirement already satisfied: google-pasta>=0.1.1 in /usr/local/lib/python3.7/dist-packages (from tensorflow==2.10.0) (0.2.0)\n",
            "Requirement already satisfied: astunparse>=1.6.0 in /usr/local/lib/python3.7/dist-packages (from tensorflow==2.10.0) (1.6.3)\n",
            "Requirement already satisfied: setuptools in /usr/local/lib/python3.7/dist-packages (from tensorflow==2.10.0) (57.4.0)\n",
            "Collecting tensorflow-estimator<2.11,>=2.10.0\n",
            "  Downloading tensorflow_estimator-2.10.0-py2.py3-none-any.whl (438 kB)\n",
            "\u001b[K     |████████████████████████████████| 438 kB 48.6 MB/s \n",
            "\u001b[?25hRequirement already satisfied: gast<=0.4.0,>=0.2.1 in /usr/local/lib/python3.7/dist-packages (from tensorflow==2.10.0) (0.4.0)\n",
            "Requirement already satisfied: opt-einsum>=2.3.2 in /usr/local/lib/python3.7/dist-packages (from tensorflow==2.10.0) (3.3.0)\n",
            "Requirement already satisfied: termcolor>=1.1.0 in /usr/local/lib/python3.7/dist-packages (from tensorflow==2.10.0) (2.0.1)\n",
            "Requirement already satisfied: typing-extensions>=3.6.6 in /usr/local/lib/python3.7/dist-packages (from tensorflow==2.10.0) (4.1.1)\n",
            "Requirement already satisfied: grpcio<2.0,>=1.24.3 in /usr/local/lib/python3.7/dist-packages (from tensorflow==2.10.0) (1.49.1)\n",
            "Requirement already satisfied: numpy>=1.20 in /usr/local/lib/python3.7/dist-packages (from tensorflow==2.10.0) (1.21.6)\n",
            "Collecting flatbuffers>=2.0\n",
            "  Downloading flatbuffers-22.9.24-py2.py3-none-any.whl (26 kB)\n",
            "Requirement already satisfied: protobuf<3.20,>=3.9.2 in /usr/local/lib/python3.7/dist-packages (from tensorflow==2.10.0) (3.17.3)\n",
            "Requirement already satisfied: wheel<1.0,>=0.23.0 in /usr/local/lib/python3.7/dist-packages (from astunparse>=1.6.0->tensorflow==2.10.0) (0.37.1)\n",
            "Requirement already satisfied: cached-property in /usr/local/lib/python3.7/dist-packages (from h5py>=2.9.0->tensorflow==2.10.0) (1.5.2)\n",
            "Requirement already satisfied: markdown>=2.6.8 in /usr/local/lib/python3.7/dist-packages (from tensorboard<2.11,>=2.10->tensorflow==2.10.0) (3.4.1)\n",
            "Requirement already satisfied: google-auth-oauthlib<0.5,>=0.4.1 in /usr/local/lib/python3.7/dist-packages (from tensorboard<2.11,>=2.10->tensorflow==2.10.0) (0.4.6)\n",
            "Requirement already satisfied: requests<3,>=2.21.0 in /usr/local/lib/python3.7/dist-packages (from tensorboard<2.11,>=2.10->tensorflow==2.10.0) (2.23.0)\n",
            "Requirement already satisfied: werkzeug>=1.0.1 in /usr/local/lib/python3.7/dist-packages (from tensorboard<2.11,>=2.10->tensorflow==2.10.0) (1.0.1)\n",
            "Requirement already satisfied: tensorboard-data-server<0.7.0,>=0.6.0 in /usr/local/lib/python3.7/dist-packages (from tensorboard<2.11,>=2.10->tensorflow==2.10.0) (0.6.1)\n",
            "Requirement already satisfied: tensorboard-plugin-wit>=1.6.0 in /usr/local/lib/python3.7/dist-packages (from tensorboard<2.11,>=2.10->tensorflow==2.10.0) (1.8.1)\n",
            "Requirement already satisfied: google-auth<3,>=1.6.3 in /usr/local/lib/python3.7/dist-packages (from tensorboard<2.11,>=2.10->tensorflow==2.10.0) (1.35.0)\n",
            "Requirement already satisfied: rsa<5,>=3.1.4 in /usr/local/lib/python3.7/dist-packages (from google-auth<3,>=1.6.3->tensorboard<2.11,>=2.10->tensorflow==2.10.0) (4.9)\n",
            "Requirement already satisfied: pyasn1-modules>=0.2.1 in /usr/local/lib/python3.7/dist-packages (from google-auth<3,>=1.6.3->tensorboard<2.11,>=2.10->tensorflow==2.10.0) (0.2.8)\n",
            "Requirement already satisfied: cachetools<5.0,>=2.0.0 in /usr/local/lib/python3.7/dist-packages (from google-auth<3,>=1.6.3->tensorboard<2.11,>=2.10->tensorflow==2.10.0) (4.2.4)\n",
            "Requirement already satisfied: requests-oauthlib>=0.7.0 in /usr/local/lib/python3.7/dist-packages (from google-auth-oauthlib<0.5,>=0.4.1->tensorboard<2.11,>=2.10->tensorflow==2.10.0) (1.3.1)\n",
            "Requirement already satisfied: importlib-metadata>=4.4 in /usr/local/lib/python3.7/dist-packages (from markdown>=2.6.8->tensorboard<2.11,>=2.10->tensorflow==2.10.0) (4.13.0)\n",
            "Requirement already satisfied: zipp>=0.5 in /usr/local/lib/python3.7/dist-packages (from importlib-metadata>=4.4->markdown>=2.6.8->tensorboard<2.11,>=2.10->tensorflow==2.10.0) (3.9.0)\n",
            "Requirement already satisfied: pyasn1<0.5.0,>=0.4.6 in /usr/local/lib/python3.7/dist-packages (from pyasn1-modules>=0.2.1->google-auth<3,>=1.6.3->tensorboard<2.11,>=2.10->tensorflow==2.10.0) (0.4.8)\n",
            "Requirement already satisfied: chardet<4,>=3.0.2 in /usr/local/lib/python3.7/dist-packages (from requests<3,>=2.21.0->tensorboard<2.11,>=2.10->tensorflow==2.10.0) (3.0.4)\n",
            "Requirement already satisfied: certifi>=2017.4.17 in /usr/local/lib/python3.7/dist-packages (from requests<3,>=2.21.0->tensorboard<2.11,>=2.10->tensorflow==2.10.0) (2022.9.24)\n",
            "Requirement already satisfied: idna<3,>=2.5 in /usr/local/lib/python3.7/dist-packages (from requests<3,>=2.21.0->tensorboard<2.11,>=2.10->tensorflow==2.10.0) (2.10)\n",
            "Requirement already satisfied: urllib3!=1.25.0,!=1.25.1,<1.26,>=1.21.1 in /usr/local/lib/python3.7/dist-packages (from requests<3,>=2.21.0->tensorboard<2.11,>=2.10->tensorflow==2.10.0) (1.24.3)\n",
            "Requirement already satisfied: oauthlib>=3.0.0 in /usr/local/lib/python3.7/dist-packages (from requests-oauthlib>=0.7.0->google-auth-oauthlib<0.5,>=0.4.1->tensorboard<2.11,>=2.10->tensorflow==2.10.0) (3.2.1)\n",
            "Requirement already satisfied: pyparsing!=3.0.5,>=2.0.2 in /usr/local/lib/python3.7/dist-packages (from packaging->tensorflow==2.10.0) (3.0.9)\n",
            "Installing collected packages: tensorflow-estimator, tensorboard, keras, flatbuffers, tensorflow\n",
            "  Attempting uninstall: tensorflow-estimator\n",
            "    Found existing installation: tensorflow-estimator 2.9.0\n",
            "    Uninstalling tensorflow-estimator-2.9.0:\n",
            "      Successfully uninstalled tensorflow-estimator-2.9.0\n",
            "  Attempting uninstall: tensorboard\n",
            "    Found existing installation: tensorboard 2.9.1\n",
            "    Uninstalling tensorboard-2.9.1:\n",
            "      Successfully uninstalled tensorboard-2.9.1\n",
            "  Attempting uninstall: keras\n",
            "    Found existing installation: keras 2.9.0\n",
            "    Uninstalling keras-2.9.0:\n",
            "      Successfully uninstalled keras-2.9.0\n",
            "  Attempting uninstall: flatbuffers\n",
            "    Found existing installation: flatbuffers 1.12\n",
            "    Uninstalling flatbuffers-1.12:\n",
            "      Successfully uninstalled flatbuffers-1.12\n",
            "  Attempting uninstall: tensorflow\n",
            "    Found existing installation: tensorflow 2.9.2\n",
            "    Uninstalling tensorflow-2.9.2:\n",
            "      Successfully uninstalled tensorflow-2.9.2\n",
            "Successfully installed flatbuffers-22.9.24 keras-2.10.0 tensorboard-2.10.1 tensorflow-2.10.0 tensorflow-estimator-2.10.0\n"
          ]
        }
      ],
      "source": [
        "\n",
        "!pip install tensorflow==2.10.0\n",
        "import tensorflow as tf\n",
        "import tensorflow_datasets as tfds\n",
        "import matplotlib.pyplot as plt\n",
        "import pandas as pd\n",
        "import numpy as np\n",
        "from tensorflow import keras"
      ]
    },
    {
      "cell_type": "code",
      "execution_count": null,
      "metadata": {
        "colab": {
          "base_uri": "https://localhost:8080/",
          "height": 35
        },
        "id": "gShPDOFflibZ",
        "outputId": "077ef688-649b-49bb-f2d6-7c24c9e97f17"
      },
      "outputs": [
        {
          "output_type": "execute_result",
          "data": {
            "text/plain": [
              "'2.10.0'"
            ],
            "application/vnd.google.colaboratory.intrinsic+json": {
              "type": "string"
            }
          },
          "metadata": {},
          "execution_count": 2
        }
      ],
      "source": [
        "tf.__version__"
      ]
    },
    {
      "cell_type": "code",
      "source": [
        "def plot_digits(samples):\n",
        "  fig = plt.figure(figsize=(10, 6))\n",
        "  num = samples.shape[0]\n",
        "  for j in range(num):\n",
        "    ax = fig.add_subplot(4, 8, j+1)\n",
        "    ax.imshow(samples[j, :, :, 0], cmap='gray')\n",
        "    plt.xticks([]), plt.yticks([])\n",
        "    plt.show()"
      ],
      "metadata": {
        "id": "fgWA5jaBThhw"
      },
      "execution_count": null,
      "outputs": []
    },
    {
      "cell_type": "code",
      "execution_count": null,
      "metadata": {
        "id": "LOdQn_bblk_L"
      },
      "outputs": [],
      "source": [
        "train_ds, test_ds = tfds.load('mnist', split=['train', 'test'], as_supervised=True,\n",
        "               batch_size=-1)"
      ]
    },
    {
      "cell_type": "code",
      "execution_count": null,
      "metadata": {
        "id": "Kt-qup0Pze4W",
        "colab": {
          "base_uri": "https://localhost:8080/",
          "height": 317
        },
        "outputId": "64fa906d-16ec-4a86-c4ab-ee6a121b07c2"
      },
      "outputs": [
        {
          "output_type": "stream",
          "name": "stdout",
          "text": [
            "<class 'numpy.ndarray'> (60000, 28, 28, 1)\n",
            "<class 'numpy.ndarray'> (10000, 28, 28, 1)\n"
          ]
        },
        {
          "output_type": "execute_result",
          "data": {
            "text/plain": [
              "<matplotlib.image.AxesImage at 0x7f0fb54a4550>"
            ]
          },
          "metadata": {},
          "execution_count": 22
        },
        {
          "output_type": "display_data",
          "data": {
            "text/plain": [
              "<Figure size 432x288 with 1 Axes>"
            ],
            "image/png": "[encoded data removed]"
          },
          "metadata": {
            "needs_background": "light"
          }
        }
      ],
      "source": [
        "# train_x = train_x.astype(np.float32) / 255.0\n",
        "# test_x = test_x.astype(np.float32) / 255.0\n",
        "train_x = tfds.as_numpy(train_ds[0]).reshape(-1, 28, 28, 1).astype(np.float32) / 255.\n",
        "test_x = tfds.as_numpy(test_ds[0]).reshape(-1, 28, 28, 1).astype(np.float32) / 255.\n",
        "print(type(train_x), train_x.shape)\n",
        "print(type(test_x), test_x.shape)\n",
        "plt.imshow(train_x[-1].reshape((28, 28)))"
      ]
    },
    {
      "cell_type": "markdown",
      "metadata": {
        "id": "D9Og7gLztuzd"
      },
      "source": [
        "# Create Autoencoder model: Encoder and Decoder"
      ]
    },
    {
      "cell_type": "code",
      "execution_count": null,
      "metadata": {
        "id": "Evp-xXADl89t"
      },
      "outputs": [],
      "source": [
        "from tensorflow.keras.layers import (ZeroPadding2D, Conv2D, \n",
        "                  MaxPool2D, UpSampling2D, Cropping2D)\n",
        "\n",
        "encoder = tf.keras.Sequential([\n",
        "    ZeroPadding2D(padding=(2, 2)),\n",
        "    Conv2D(8, (3,3), padding='same', activation='relu'),\n",
        "    MaxPool2D((2,2)),\n",
        "    Conv2D(8, (3,3), padding='same', activation='relu'),\n",
        "    MaxPool2D((2,2)),\n",
        "    Conv2D(8, (3,3), padding='same', activation='relu'),\n",
        "    MaxPool2D((2,2)),\n",
        "\n",
        "])\n",
        "decoder = tf.keras.Sequential([\n",
        "    Conv2D(8, (3,3), padding='same', activation='relu'),\n",
        "    UpSampling2D((2,2)),\n",
        "    Conv2D(8, (3,3), padding='same', activation='relu'),\n",
        "    UpSampling2D((2,2)),\n",
        "    Conv2D(8, (3,3), padding='same', activation='relu'),\n",
        "    UpSampling2D((2,2)),\n",
        "    Conv2D(1, (3,3), padding='same', activation='sigmoid'),\n",
        "    Cropping2D((2,2))\n",
        "])\n",
        "\n",
        "autoencoder = tf.keras.Sequential([encoder, decoder])\n",
        "autoencoder.compile(optimizer='adam', loss='binary_crossentropy')"
      ]
    },
    {
      "cell_type": "code",
      "execution_count": null,
      "metadata": {
        "colab": {
          "base_uri": "https://localhost:8080/"
        },
        "id": "v6i1T1ZluNhM",
        "outputId": "94991b4b-97b9-413c-9f08-0f18da27596c"
      },
      "outputs": [
        {
          "output_type": "stream",
          "name": "stdout",
          "text": [
            "Epoch 1/60\n",
            "469/469 [==============================] - 83s 175ms/step - loss: 0.2316 - val_loss: 0.1566\n",
            "Epoch 2/60\n",
            "469/469 [==============================] - 78s 167ms/step - loss: 0.1458 - val_loss: 0.1373\n",
            "Epoch 3/60\n",
            "469/469 [==============================] - 77s 164ms/step - loss: 0.1326 - val_loss: 0.1280\n",
            "Epoch 4/60\n",
            "469/469 [==============================] - 77s 164ms/step - loss: 0.1255 - val_loss: 0.1216\n",
            "Epoch 5/60\n",
            "469/469 [==============================] - 77s 163ms/step - loss: 0.1201 - val_loss: 0.1167\n",
            "Epoch 6/60\n",
            "469/469 [==============================] - 76s 163ms/step - loss: 0.1163 - val_loss: 0.1136\n",
            "Epoch 7/60\n",
            "469/469 [==============================] - 76s 163ms/step - loss: 0.1133 - val_loss: 0.1120\n",
            "Epoch 8/60\n",
            "469/469 [==============================] - 76s 163ms/step - loss: 0.1112 - val_loss: 0.1094\n",
            "Epoch 9/60\n",
            "469/469 [==============================] - 78s 167ms/step - loss: 0.1096 - val_loss: 0.1075\n",
            "Epoch 10/60\n",
            "469/469 [==============================] - 77s 164ms/step - loss: 0.1082 - val_loss: 0.1068\n",
            "Epoch 11/60\n",
            "469/469 [==============================] - 77s 165ms/step - loss: 0.1071 - val_loss: 0.1054\n",
            "Epoch 12/60\n",
            "469/469 [==============================] - 77s 165ms/step - loss: 0.1062 - val_loss: 0.1046\n",
            "Epoch 13/60\n",
            "469/469 [==============================] - 77s 165ms/step - loss: 0.1053 - val_loss: 0.1036\n",
            "Epoch 14/60\n",
            "469/469 [==============================] - 77s 164ms/step - loss: 0.1046 - val_loss: 0.1030\n",
            "Epoch 15/60\n",
            "469/469 [==============================] - 77s 164ms/step - loss: 0.1038 - val_loss: 0.1024\n",
            "Epoch 16/60\n",
            "469/469 [==============================] - 77s 165ms/step - loss: 0.1032 - val_loss: 0.1017\n",
            "Epoch 17/60\n",
            "469/469 [==============================] - 79s 168ms/step - loss: 0.1027 - val_loss: 0.1012\n",
            "Epoch 18/60\n",
            "469/469 [==============================] - 78s 167ms/step - loss: 0.1021 - val_loss: 0.1018\n",
            "Epoch 19/60\n",
            "469/469 [==============================] - 79s 168ms/step - loss: 0.1017 - val_loss: 0.1002\n",
            "Epoch 20/60\n",
            "469/469 [==============================] - 78s 167ms/step - loss: 0.1012 - val_loss: 0.0997\n",
            "Epoch 21/60\n",
            "469/469 [==============================] - 78s 167ms/step - loss: 0.1009 - val_loss: 0.0995\n",
            "Epoch 22/60\n",
            "469/469 [==============================] - 78s 167ms/step - loss: 0.1004 - val_loss: 0.0991\n",
            "Epoch 23/60\n",
            "469/469 [==============================] - 78s 167ms/step - loss: 0.1001 - val_loss: 0.0991\n",
            "Epoch 24/60\n",
            "469/469 [==============================] - 79s 169ms/step - loss: 0.0998 - val_loss: 0.0985\n",
            "Epoch 25/60\n",
            "469/469 [==============================] - 81s 173ms/step - loss: 0.0995 - val_loss: 0.0982\n",
            "Epoch 26/60\n",
            "469/469 [==============================] - 81s 172ms/step - loss: 0.0993 - val_loss: 0.0981\n",
            "Epoch 27/60\n",
            "469/469 [==============================] - 79s 169ms/step - loss: 0.0990 - val_loss: 0.0977\n",
            "Epoch 28/60\n",
            "469/469 [==============================] - 80s 170ms/step - loss: 0.0987 - val_loss: 0.0974\n",
            "Epoch 29/60\n",
            "469/469 [==============================] - 80s 170ms/step - loss: 0.0986 - val_loss: 0.0980\n",
            "Epoch 30/60\n",
            "469/469 [==============================] - 81s 172ms/step - loss: 0.0984 - val_loss: 0.0970\n",
            "Epoch 31/60\n",
            "469/469 [==============================] - 81s 174ms/step - loss: 0.0982 - val_loss: 0.0969\n",
            "Epoch 32/60\n",
            "469/469 [==============================] - 80s 171ms/step - loss: 0.0980 - val_loss: 0.0966\n",
            "Epoch 33/60\n",
            "469/469 [==============================] - 80s 171ms/step - loss: 0.0978 - val_loss: 0.0968\n",
            "Epoch 34/60\n",
            "469/469 [==============================] - 81s 173ms/step - loss: 0.0976 - val_loss: 0.0963\n",
            "Epoch 35/60\n",
            "469/469 [==============================] - 81s 173ms/step - loss: 0.0975 - val_loss: 0.0964\n",
            "Epoch 36/60\n",
            "469/469 [==============================] - 80s 171ms/step - loss: 0.0974 - val_loss: 0.0960\n",
            "Epoch 37/60\n",
            "469/469 [==============================] - 80s 171ms/step - loss: 0.0972 - val_loss: 0.0963\n",
            "Epoch 38/60\n",
            "469/469 [==============================] - 81s 174ms/step - loss: 0.0971 - val_loss: 0.0958\n",
            "Epoch 39/60\n",
            "469/469 [==============================] - 80s 171ms/step - loss: 0.0969 - val_loss: 0.0957\n",
            "Epoch 40/60\n",
            "469/469 [==============================] - 80s 171ms/step - loss: 0.0968 - val_loss: 0.0957\n",
            "Epoch 41/60\n",
            "469/469 [==============================] - 80s 172ms/step - loss: 0.0967 - val_loss: 0.0956\n",
            "Epoch 42/60\n",
            "469/469 [==============================] - 81s 173ms/step - loss: 0.0966 - val_loss: 0.0953\n",
            "Epoch 43/60\n",
            "469/469 [==============================] - 81s 172ms/step - loss: 0.0964 - val_loss: 0.0952\n",
            "Epoch 44/60\n",
            "469/469 [==============================] - 80s 171ms/step - loss: 0.0963 - val_loss: 0.0954\n",
            "Epoch 45/60\n",
            "469/469 [==============================] - 81s 172ms/step - loss: 0.0962 - val_loss: 0.0950\n",
            "Epoch 46/60\n",
            "469/469 [==============================] - 81s 172ms/step - loss: 0.0961 - val_loss: 0.0950\n",
            "Epoch 47/60\n",
            "469/469 [==============================] - 81s 173ms/step - loss: 0.0960 - val_loss: 0.0948\n",
            "Epoch 48/60\n",
            "469/469 [==============================] - 81s 172ms/step - loss: 0.0958 - val_loss: 0.0947\n",
            "Epoch 49/60\n",
            "469/469 [==============================] - 82s 174ms/step - loss: 0.0958 - val_loss: 0.0947\n",
            "Epoch 50/60\n",
            "469/469 [==============================] - 82s 175ms/step - loss: 0.0957 - val_loss: 0.0949\n",
            "Epoch 51/60\n",
            "469/469 [==============================] - 81s 172ms/step - loss: 0.0956 - val_loss: 0.0949\n",
            "Epoch 52/60\n",
            "469/469 [==============================] - 81s 172ms/step - loss: 0.0955 - val_loss: 0.0944\n",
            "Epoch 53/60\n",
            "469/469 [==============================] - 81s 174ms/step - loss: 0.0954 - val_loss: 0.0942\n",
            "Epoch 54/60\n",
            "469/469 [==============================] - 82s 175ms/step - loss: 0.0954 - val_loss: 0.0943\n",
            "Epoch 55/60\n",
            "469/469 [==============================] - 81s 173ms/step - loss: 0.0952 - val_loss: 0.0943\n",
            "Epoch 56/60\n",
            "469/469 [==============================] - 81s 173ms/step - loss: 0.0952 - val_loss: 0.0941\n",
            "Epoch 57/60\n",
            "469/469 [==============================] - 81s 172ms/step - loss: 0.0951 - val_loss: 0.0941\n",
            "Epoch 58/60\n",
            "469/469 [==============================] - 81s 172ms/step - loss: 0.0950 - val_loss: 0.0941\n",
            "Epoch 59/60\n",
            "469/469 [==============================] - 80s 172ms/step - loss: 0.0949 - val_loss: 0.0940\n",
            "Epoch 60/60\n",
            "469/469 [==============================] - 80s 171ms/step - loss: 0.0949 - val_loss: 0.0943\n"
          ]
        },
        {
          "output_type": "execute_result",
          "data": {
            "text/plain": [
              "<keras.callbacks.History at 0x7f0fb3357c90>"
            ]
          },
          "metadata": {},
          "execution_count": 10
        }
      ],
      "source": [
        "NUM_EPOCHS = 60\n",
        "BATCH_SIZE = 128\n",
        "autoencoder.fit(train_x, train_x,\n",
        "                batch_size=BATCH_SIZE,\n",
        "                epochs=NUM_EPOCHS,\n",
        "                shuffle=True,\n",
        "                validation_data=(test_x, test_x))"
      ]
    },
    {
      "cell_type": "code",
      "execution_count": null,
      "metadata": {
        "id": "nY1ha47GzArS",
        "colab": {
          "base_uri": "https://localhost:8080/",
          "height": 300
        },
        "outputId": "0d7a563f-e614-4084-e883-b3f9703414cb"
      },
      "outputs": [
        {
          "output_type": "stream",
          "name": "stdout",
          "text": [
            "1/1 [==============================] - 0s 58ms/step\n"
          ]
        },
        {
          "output_type": "execute_result",
          "data": {
            "text/plain": [
              "<matplotlib.image.AxesImage at 0x7f0fb5ceda10>"
            ]
          },
          "metadata": {},
          "execution_count": 12
        },
        {
          "output_type": "display_data",
          "data": {
            "text/plain": [
              "<Figure size 432x288 with 1 Axes>"
            ],
            "image/png": "[encoded data removed]"
          },
          "metadata": {
            "needs_background": "light"
          }
        }
      ],
      "source": [
        "res = autoencoder.predict(test_x[0:8])\n",
        "plt.imshow(res[0].reshape((28,28)), cmap='gray')\n",
        "# plt.imshow(image[0].reshape((28,28)))"
      ]
    },
    {
      "cell_type": "code",
      "source": [
        "plt.imshow(test_x[0].reshape((28, 28)), cmap='gray')"
      ],
      "metadata": {
        "id": "I7CIcIO836PP",
        "colab": {
          "base_uri": "https://localhost:8080/",
          "height": 282
        },
        "outputId": "923e17d9-f879-499c-9d9e-8bbfdbf377d3"
      },
      "execution_count": null,
      "outputs": [
        {
          "output_type": "execute_result",
          "data": {
            "text/plain": [
              "<matplotlib.image.AxesImage at 0x7f0fb085d6d0>"
            ]
          },
          "metadata": {},
          "execution_count": 15
        },
        {
          "output_type": "display_data",
          "data": {
            "text/plain": [
              "<Figure size 432x288 with 1 Axes>"
            ],
            "image/png": "[encoded data removed]"
          },
          "metadata": {
            "needs_background": "light"
          }
        }
      ]
    },
    {
      "cell_type": "code",
      "source": [],
      "metadata": {
        "id": "Kq2eNgFLYBVC"
      },
      "execution_count": null,
      "outputs": []
    }
  ],
  "metadata": {
    "accelerator": "TPU",
    "colab": {
      "provenance": [],
      "authorship_tag": "ABX9TyPlSM9MZadvTFC/dL8kd7c1",
      "include_colab_link": true
    },
    "kernelspec": {
      "display_name": "Python 3",
      "name": "python3"
    },
    "language_info": {
      "name": "python"
    }
  },
  "nbformat": 4,
  "nbformat_minor": 0
}